import pandas as pd
import matplotlib.pyplot as plt

# Load data
df = pd.read_csv("../data/product_qc_sample_manual.csv")

# Quick preview
print(df.head())

# Basic stats
print(df.describe())

# Plot defects by shift
df.groupby("Shift")["Defect_Count"].mean().plot(kind='bar', title='Avg Defect Count by Shift')
plt.ylabel("Average Defect Count")
plt.show()
